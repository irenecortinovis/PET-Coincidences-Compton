{
 "cells": [
  {
   "cell_type": "code",
   "execution_count": 1,
   "metadata": {},
   "outputs": [],
   "source": [
    "from __future__ import absolute_import, division, print_function, unicode_literals\n",
    "\n",
    "import pathlib\n",
    "from sklearn.metrics import roc_curve\n",
    "from sklearn.metrics import auc\n",
    "import matplotlib.pyplot as plt\n",
    "import pandas as pd\n",
    "import numpy as np\n",
    "from scipy import stats\n",
    "from sklearn.utils import shuffle\n",
    "from sklearn.metrics import roc_curve\n",
    "from sklearn.model_selection import train_test_split\n",
    "\n",
    "\n",
    "import tensorflow as tf\n",
    "from tensorflow import keras\n",
    "from tensorflow.keras import layers\n"
   ]
  },
  {
   "cell_type": "code",
   "execution_count": 2,
   "metadata": {},
   "outputs": [],
   "source": [
    "def angle3d(x1,y1,z1,x2,y2,z2,x3,y3,z3, smearing, cry_side=1.53, fwhm_doi=3 ):\n",
    "    if smearing == True:\n",
    "        #doi smearing\n",
    "        x1 = np.random.normal(x1, 3/2.355)\n",
    "        x2 = np.random.normal(x1, 3/2.355)\n",
    "        x3 = np.random.normal(x1, 3/2.355)\n",
    "        \n",
    "        #crystals smearing #TODO: crystal centers\n",
    "        y1 = np.random.uniform(y1-cry_side/2, y1+cry_side/2)\n",
    "        y2 = np.random.uniform(y2-cry_side/2, y2+cry_side/2)\n",
    "        y3 = np.random.uniform(y3-cry_side/2, y3+cry_side/2)\n",
    "        z1 = np.random.uniform(z1-cry_side/2, z1+cry_side/2)\n",
    "        z2 = np.random.uniform(z2-cry_side/2, z2+cry_side/2)\n",
    "        z3 = np.random.uniform(z3-cry_side/2, z3+cry_side/2)\n",
    "        \n",
    "    a = np.array([x1,y1,z1])\n",
    "    b = np.array([x2,y2,z2])\n",
    "    c = np.array([x3,y3,z3])\n",
    "    ba = a - b\n",
    "    bc = c - b\n",
    "    cosine_angle = np.dot(ba, bc) / (np.linalg.norm(ba) * np.linalg.norm(bc))\n",
    "    angle = np.pi - np.arccos(cosine_angle)\n",
    "    return (angle)\n",
    "\n",
    "\n",
    "def errorangle3d(angle, energy2, fwhm_en_perc):\n",
    "    energyerr = fwhm_en_perc*energy2/2.355\n",
    "    return abs(0.511*energyerr/(np.sin(angle)*((0.511-energy2)**2)))\n",
    "\n",
    "def select_columns(data_frame, column_names):\n",
    "    new_frame = data_frame.loc[:, column_names]\n",
    "    return new_frame\n",
    "\n",
    "\n",
    "\n",
    "def build_model():\n",
    "    model = keras.Sequential([layers.Dense(5, activation=tf.nn.relu, input_shape=[len(train_dataset.keys())]),\n",
    "    layers.Dense(5, activation=tf.nn.relu),\n",
    "    layers.Dense(2, activation=tf.nn.softmax)])\n",
    "\n",
    "    model.compile(loss='sparse_categorical_crossentropy',\n",
    "                optimizer='adam',\n",
    "                metrics=['accuracy'])\n",
    "    return model\n",
    "\n",
    "def plot_history(history):\n",
    "    hist = pd.DataFrame(history.history)\n",
    "    hist['epoch'] = history.epoch\n",
    "    plt.figure()\n",
    "    plt.xlabel('Epoch')\n",
    "    plt.ylabel('Accuracy')\n",
    "    plt.plot(hist['epoch'], hist['acc'],\n",
    "           label='Acc')\n",
    "    plt.legend()\n",
    "    plt.show()\n",
    "    "
   ]
  },
  {
   "cell_type": "code",
   "execution_count": 19,
   "metadata": {},
   "outputs": [
    {
     "name": "stderr",
     "output_type": "stream",
     "text": [
      "/home/pipsini/Programs/anaconda3/lib/python3.7/site-packages/ipykernel_launcher.py:21: RuntimeWarning: invalid value encountered in double_scalars\n"
     ]
    }
   ],
   "source": [
    "#dataset_path = '/home/pipsini/Documents/CERN/PET/programs/PET-Coincidences-Compton/macro/build/test_compton_big.txt'\n",
    "#dataset_path = '/home/pipsini/Documents/CERN/PET/programs/PET-Coincidences-Compton/macro/build/test_compton_small.txt'\n",
    "dataset_path = '/home/pipsini/Documents/CERN/PET/programs/PET-Coincidences-Compton/macro/build/test_compton.txt'\n",
    "\n",
    "raw_dataset = pd.read_csv(dataset_path, sep=\"\\t\", usecols=range(0,18))\n",
    "dataset = raw_dataset.copy()\n",
    "\n",
    "angle = []\n",
    "anglewrong = []\n",
    "angle_smeared = []\n",
    "anglewrong_smeared = []\n",
    "en2_smeared = []\n",
    "en3_smeared = []\n",
    "\n",
    "fwhm_doi = 3\n",
    "fwhm_en_perc = 0.1\n",
    "cry_side = 1.53\n",
    "\n",
    "\n",
    "for index, row in dataset.iterrows():\n",
    "    #angle with no smearing\n",
    "    angle.append(angle3d(row['x1'],row['y1'],row['z1'],row['x2'],row['y2'],row['z2'],row['x3'],row['y3'],row['z3'], smearing=False))          \n",
    "    anglewrong.append(angle3d(row['x1'],row['y1'],row['z1'],row['x3'],row['y3'],row['z3'],row['x2'],row['y2'],row['z2'], smearing=False))  \n",
    "    \n",
    "    #angle with smearing\n",
    "    anglevalue = angle3d(row['x1'],row['y1'],row['z1'],row['x2'],row['y2'],row['z2'],row['x3'],row['y3'],row['z3'], smearing=True)\n",
    "    anglewrongvalue = angle3d(row['x1'],row['y1'],row['z1'],row['x3'],row['y3'],row['z3'],row['x2'],row['y2'],row['z2'], smearing=True)\n",
    "    angle_smeared.append(np.random.normal(anglevalue,errorangle3d(anglevalue, row['energy2'], fwhm_en_perc)))            \n",
    "    anglewrong_smeared.append(np.random.normal(anglewrongvalue,errorangle3d(anglewrongvalue, row['energy3'], fwhm_en_perc)))            \n",
    "        \n",
    "    #energy with smearing \n",
    "    en2_smeared.append(np.random.normal(row['energy2'], fwhm_en_perc*row['energy2']/2.355))\n",
    "    en3_smeared.append(np.random.normal(row['energy3'], fwhm_en_perc*row['energy3']/2.355))\n",
    "\n",
    "\n",
    "#fill the dataframe\n",
    "dataset['compt_angle'] = angle\n",
    "dataset['compt_angle_wrong'] = anglewrong\n",
    "dataset['compt_angle_smeared'] = angle_smeared\n",
    "dataset['compt_angle_wrong_smeared'] = anglewrong_smeared\n",
    "dataset['energy2_smeared'] = en2_smeared\n",
    "dataset['energy3_smeared'] = en3_smeared\n",
    "\n",
    "#remove not a number angles (same position of compton) #how is this possible??\n",
    "dataset = dataset.dropna()\n",
    "#dataset.head()"
   ]
  },
  {
   "cell_type": "code",
   "execution_count": 20,
   "metadata": {},
   "outputs": [
    {
     "name": "stdout",
     "output_type": "stream",
     "text": [
      "249544\n"
     ]
    },
    {
     "data": {
      "text/html": [
       "<div>\n",
       "<style scoped>\n",
       "    .dataframe tbody tr th:only-of-type {\n",
       "        vertical-align: middle;\n",
       "    }\n",
       "\n",
       "    .dataframe tbody tr th {\n",
       "        vertical-align: top;\n",
       "    }\n",
       "\n",
       "    .dataframe thead th {\n",
       "        text-align: right;\n",
       "    }\n",
       "</style>\n",
       "<table border=\"1\" class=\"dataframe\">\n",
       "  <thead>\n",
       "    <tr style=\"text-align: right;\">\n",
       "      <th></th>\n",
       "      <th>energy2</th>\n",
       "      <th>energy3</th>\n",
       "      <th>compt_angle</th>\n",
       "      <th>label</th>\n",
       "    </tr>\n",
       "  </thead>\n",
       "  <tbody>\n",
       "    <tr>\n",
       "      <th>0</th>\n",
       "      <td>0.234583</td>\n",
       "      <td>0.265623</td>\n",
       "      <td>1.235321</td>\n",
       "      <td>1</td>\n",
       "    </tr>\n",
       "    <tr>\n",
       "      <th>1</th>\n",
       "      <td>0.233424</td>\n",
       "      <td>0.261998</td>\n",
       "      <td>1.255565</td>\n",
       "      <td>1</td>\n",
       "    </tr>\n",
       "    <tr>\n",
       "      <th>2</th>\n",
       "      <td>0.185185</td>\n",
       "      <td>0.330955</td>\n",
       "      <td>0.595910</td>\n",
       "      <td>1</td>\n",
       "    </tr>\n",
       "    <tr>\n",
       "      <th>3</th>\n",
       "      <td>0.122796</td>\n",
       "      <td>0.405141</td>\n",
       "      <td>0.665730</td>\n",
       "      <td>1</td>\n",
       "    </tr>\n",
       "    <tr>\n",
       "      <th>4</th>\n",
       "      <td>0.314857</td>\n",
       "      <td>0.197597</td>\n",
       "      <td>2.383119</td>\n",
       "      <td>1</td>\n",
       "    </tr>\n",
       "  </tbody>\n",
       "</table>\n",
       "</div>"
      ],
      "text/plain": [
       "    energy2   energy3  compt_angle  label\n",
       "0  0.234583  0.265623     1.235321      1\n",
       "1  0.233424  0.261998     1.255565      1\n",
       "2  0.185185  0.330955     0.595910      1\n",
       "3  0.122796  0.405141     0.665730      1\n",
       "4  0.314857  0.197597     2.383119      1"
      ]
     },
     "execution_count": 20,
     "metadata": {},
     "output_type": "execute_result"
    }
   ],
   "source": [
    "smearing = True\n",
    "\n",
    "\n",
    "if smearing == False:\n",
    "    variables = ['energy2', 'energy3','compt_angle','compt_angle_wrong']\n",
    "else:\n",
    "    variables = ['energy2_smeared', 'energy3_smeared','compt_angle_smeared','compt_angle_wrong_smeared']    \n",
    "\n",
    "    \n",
    "dataset_preparing = select_columns(dataset, variables)\n",
    "dataset_corr = select_columns(dataset_preparing, [variables[0], variables[1], variables[2]])\n",
    "dataset_incorr = select_columns(dataset_preparing, [variables[0], variables[1], variables[3]])\n",
    "\n",
    "dataset_incorr.columns = ['energy2', 'energy3','compt_angle']\n",
    "dataset_corr.columns = ['energy2', 'energy3','compt_angle']\n",
    "\n",
    "\n",
    "dataset_corr['label'] = [1]*len(dataset_corr)\n",
    "dataset_incorr['label'] = [0]*len(dataset_incorr)\n",
    "\n",
    "\n",
    "MLdataset = dataset_corr.append(dataset_incorr)\n",
    "print(len(MLdataset))\n",
    "MLdataset.head()"
   ]
  },
  {
   "cell_type": "code",
   "execution_count": 21,
   "metadata": {},
   "outputs": [],
   "source": [
    "#split train and test\n",
    "MLdataset = shuffle(MLdataset)\n",
    "\n",
    "train_dataset = MLdataset.sample(frac=0.8,random_state=0)\n",
    "test_dataset = MLdataset.drop(train_dataset.index)\n",
    "\n",
    "train_labels = train_dataset.pop('label')\n",
    "test_labels = test_dataset.pop('label')\n",
    "\n"
   ]
  },
  {
   "cell_type": "code",
   "execution_count": 6,
   "metadata": {},
   "outputs": [
    {
     "name": "stdout",
     "output_type": "stream",
     "text": [
      "WARNING:tensorflow:From /home/pipsini/Programs/anaconda3/lib/python3.7/site-packages/tensorflow/python/ops/resource_variable_ops.py:435: colocate_with (from tensorflow.python.framework.ops) is deprecated and will be removed in a future version.\n",
      "Instructions for updating:\n",
      "Colocations handled automatically by placer.\n",
      "_________________________________________________________________\n",
      "Layer (type)                 Output Shape              Param #   \n",
      "=================================================================\n",
      "dense (Dense)                (None, 5)                 20        \n",
      "_________________________________________________________________\n",
      "dense_1 (Dense)              (None, 5)                 30        \n",
      "_________________________________________________________________\n",
      "dense_2 (Dense)              (None, 2)                 12        \n",
      "=================================================================\n",
      "Total params: 62\n",
      "Trainable params: 62\n",
      "Non-trainable params: 0\n",
      "_________________________________________________________________\n"
     ]
    }
   ],
   "source": [
    "model = build_model()\n",
    "model.summary()"
   ]
  },
  {
   "cell_type": "code",
   "execution_count": 7,
   "metadata": {},
   "outputs": [
    {
     "name": "stdout",
     "output_type": "stream",
     "text": [
      "Epoch 1/20\n",
      "199635/199635 [==============================] - 13s 65us/sample - loss: 0.5527 - acc: 0.7323\n",
      "Epoch 2/20\n",
      "199635/199635 [==============================] - 13s 64us/sample - loss: 0.4403 - acc: 0.7939\n",
      "Epoch 3/20\n",
      "199635/199635 [==============================] - 13s 64us/sample - loss: 0.4310 - acc: 0.7991\n",
      "Epoch 4/20\n",
      "199635/199635 [==============================] - 13s 64us/sample - loss: 0.4277 - acc: 0.8006\n",
      "Epoch 5/20\n",
      "199635/199635 [==============================] - 13s 64us/sample - loss: 0.4255 - acc: 0.8017\n",
      "Epoch 6/20\n",
      "199635/199635 [==============================] - 13s 65us/sample - loss: 0.4241 - acc: 0.8021\n",
      "Epoch 7/20\n",
      "199635/199635 [==============================] - 13s 64us/sample - loss: 0.4228 - acc: 0.8033\n",
      "Epoch 8/20\n",
      "199635/199635 [==============================] - 13s 63us/sample - loss: 0.4218 - acc: 0.8033\n",
      "Epoch 9/20\n",
      "199635/199635 [==============================] - 13s 65us/sample - loss: 0.4210 - acc: 0.8034\n",
      "Epoch 10/20\n",
      "199635/199635 [==============================] - 13s 64us/sample - loss: 0.4201 - acc: 0.8043\n",
      "Epoch 11/20\n",
      "199635/199635 [==============================] - 13s 65us/sample - loss: 0.4193 - acc: 0.8044\n",
      "Epoch 12/20\n",
      "199635/199635 [==============================] - 13s 64us/sample - loss: 0.4187 - acc: 0.8049\n",
      "Epoch 13/20\n",
      "199635/199635 [==============================] - 13s 64us/sample - loss: 0.4184 - acc: 0.8049\n",
      "Epoch 14/20\n",
      "199635/199635 [==============================] - 13s 65us/sample - loss: 0.4178 - acc: 0.8052\n",
      "Epoch 15/20\n",
      "199635/199635 [==============================] - 13s 67us/sample - loss: 0.4175 - acc: 0.8057\n",
      "Epoch 16/20\n",
      "199635/199635 [==============================] - 12s 61us/sample - loss: 0.4173 - acc: 0.8053\n",
      "Epoch 17/20\n",
      "199635/199635 [==============================] - 13s 64us/sample - loss: 0.4173 - acc: 0.8057\n",
      "Epoch 18/20\n",
      "199635/199635 [==============================] - 13s 66us/sample - loss: 0.4172 - acc: 0.8056\n",
      "Epoch 19/20\n",
      "199635/199635 [==============================] - 13s 65us/sample - loss: 0.4169 - acc: 0.8055\n",
      "Epoch 20/20\n",
      "199635/199635 [==============================] - 13s 65us/sample - loss: 0.4168 - acc: 0.8059\n"
     ]
    }
   ],
   "source": [
    "EPOCHS=20\n",
    "\n",
    "# The patience parameter is the amount of epochs to check for improvement\n",
    "early_stop = keras.callbacks.EarlyStopping(monitor='loss', patience=10)\n",
    "history = model.fit(train_dataset, train_labels, epochs=EPOCHS, callbacks=[early_stop])\n"
   ]
  },
  {
   "cell_type": "code",
   "execution_count": 22,
   "metadata": {},
   "outputs": [
    {
     "name": "stdout",
     "output_type": "stream",
     "text": [
      "159558/159558 [==============================] - 5s 29us/sample - loss: 0.4152 - acc: 0.8073\n",
      "Test accuracy: 0.8072989\n"
     ]
    }
   ],
   "source": [
    "#Let's see how well the model generalizes by using the test set, which we \n",
    "#did not use when training the model. This tells us how well we can expect the \n",
    "#model to predict when we use it in the real world.\n",
    "test_loss, test_acc = model.evaluate(test_dataset, test_labels)\n",
    "print('Test accuracy:', test_acc)\n"
   ]
  },
  {
   "cell_type": "code",
   "execution_count": 9,
   "metadata": {},
   "outputs": [
    {
     "data": {
      "image/png": "[encoded data removed]",
      "text/plain": [
       "<Figure size 432x288 with 1 Axes>"
      ]
     },
     "metadata": {
      "needs_background": "light"
     },
     "output_type": "display_data"
    },
    {
     "data": {
      "image/png": "[encoded data removed]",
      "text/plain": [
       "<Figure size 432x288 with 1 Axes>"
      ]
     },
     "metadata": {
      "needs_background": "light"
     },
     "output_type": "display_data"
    },
    {
     "data": {
      "image/png": "[encoded data removed]",
      "text/plain": [
       "<Figure size 432x288 with 1 Axes>"
      ]
     },
     "metadata": {
      "needs_background": "light"
     },
     "output_type": "display_data"
    }
   ],
   "source": [
    "#plot accuracy history\n",
    "plot_history(history)\n",
    "\n",
    "# Plot ROC curve\n",
    "y_pred_keras = model.predict(test_dataset)\n",
    "fpr_keras, tpr_keras, thresholds_keras = roc_curve(test_labels, y_pred_keras[:,1])\n",
    "auc_keras = auc(fpr_keras, tpr_keras)\n",
    "\n",
    "plt.figure(1)\n",
    "#plt.plot([0, 1], [0, 1], 'k--')\n",
    "plt.plot(tpr_keras, 1-fpr_keras, label='Keras (area = {:.3f})'.format(auc_keras))\n",
    "plt.xlabel('Signal Eff.')\n",
    "plt.ylabel('Background rejection')\n",
    "plt.title('ROC curve')\n",
    "plt.legend(loc='best')\n",
    "plt.show()\n",
    "\n",
    "plt.figure(2)\n",
    "#plt.plot([0.6, 1], [0.95, 1], 'k--')\n",
    "plt.plot(tpr_keras, 1-fpr_keras, label='Keras (area = {:.3f})'.format(auc_keras))\n",
    "plt.xlabel('Signal Eff.')\n",
    "plt.ylabel('Background rejection')\n",
    "plt.xlim(0.6, 1)\n",
    "plt.ylim(0.4, 1)\n",
    "plt.title('ROC curve')\n",
    "plt.legend(loc='best')\n",
    "plt.show()"
   ]
  },
  {
   "cell_type": "code",
   "execution_count": null,
   "metadata": {},
   "outputs": [],
   "source": []
  },
  {
   "cell_type": "code",
   "execution_count": null,
   "metadata": {},
   "outputs": [],
   "source": []
  }
 ],
 "metadata": {
  "kernelspec": {
   "display_name": "Python 3",
   "language": "python",
   "name": "python3"
  },
  "language_info": {
   "codemirror_mode": {
    "name": "ipython",
    "version": 3
   },
   "file_extension": ".py",
   "mimetype": "text/x-python",
   "name": "python",
   "nbconvert_exporter": "python",
   "pygments_lexer": "ipython3",
   "version": "3.7.1"
  }
 },
 "nbformat": 4,
 "nbformat_minor": 2
}
